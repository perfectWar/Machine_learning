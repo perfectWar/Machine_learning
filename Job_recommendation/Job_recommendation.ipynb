{
 "cells": [
  {
   "cell_type": "code",
   "execution_count": 1,
   "id": "f4c611d6",
   "metadata": {},
   "outputs": [],
   "source": [
    "import numpy as np\n",
    "import pandas as pd"
   ]
  },
  {
   "cell_type": "code",
   "execution_count": 2,
   "id": "a85c3f01",
   "metadata": {},
   "outputs": [],
   "source": [
    "df = pd.read_csv('C:\\\\Users\\\\raths\\\\Downloads\\\\jobs (1).csv')"
   ]
  },
  {
   "cell_type": "code",
   "execution_count": 3,
   "id": "592fe4a2",
   "metadata": {},
   "outputs": [
    {
     "data": {
      "text/html": [
       "<div>\n",
       "<style scoped>\n",
       "    .dataframe tbody tr th:only-of-type {\n",
       "        vertical-align: middle;\n",
       "    }\n",
       "\n",
       "    .dataframe tbody tr th {\n",
       "        vertical-align: top;\n",
       "    }\n",
       "\n",
       "    .dataframe thead th {\n",
       "        text-align: right;\n",
       "    }\n",
       "</style>\n",
       "<table border=\"1\" class=\"dataframe\">\n",
       "  <thead>\n",
       "    <tr style=\"text-align: right;\">\n",
       "      <th></th>\n",
       "      <th>Company Name</th>\n",
       "      <th>Location</th>\n",
       "      <th>Job Title</th>\n",
       "    </tr>\n",
       "  </thead>\n",
       "  <tbody>\n",
       "    <tr>\n",
       "      <th>0</th>\n",
       "      <td>Commonwealth Bank</td>\n",
       "      <td>Sydney Area, Australia</td>\n",
       "      <td>Portfolio Executive</td>\n",
       "    </tr>\n",
       "    <tr>\n",
       "      <th>1</th>\n",
       "      <td>Commonwealth Bank</td>\n",
       "      <td>Sydney Area, Australia</td>\n",
       "      <td>Solution Delivery Executive</td>\n",
       "    </tr>\n",
       "    <tr>\n",
       "      <th>2</th>\n",
       "      <td>CommSec</td>\n",
       "      <td>Sydney Area, Australia</td>\n",
       "      <td>Project Manager</td>\n",
       "    </tr>\n",
       "    <tr>\n",
       "      <th>3</th>\n",
       "      <td>Commonwealth Bank</td>\n",
       "      <td>Sydney Area, Australia</td>\n",
       "      <td>Project Manager</td>\n",
       "    </tr>\n",
       "    <tr>\n",
       "      <th>4</th>\n",
       "      <td>PayPal</td>\n",
       "      <td>Sydney Area, Australia</td>\n",
       "      <td>Senior Marketing Manager</td>\n",
       "    </tr>\n",
       "  </tbody>\n",
       "</table>\n",
       "</div>"
      ],
      "text/plain": [
       "        Company Name                Location                    Job Title\n",
       "0  Commonwealth Bank  Sydney Area, Australia          Portfolio Executive\n",
       "1  Commonwealth Bank  Sydney Area, Australia  Solution Delivery Executive\n",
       "2            CommSec  Sydney Area, Australia              Project Manager\n",
       "3  Commonwealth Bank  Sydney Area, Australia              Project Manager\n",
       "4             PayPal  Sydney Area, Australia     Senior Marketing Manager"
      ]
     },
     "execution_count": 3,
     "metadata": {},
     "output_type": "execute_result"
    }
   ],
   "source": [
    "df.head()"
   ]
  },
  {
   "cell_type": "code",
   "execution_count": 4,
   "id": "392e07c6",
   "metadata": {},
   "outputs": [
    {
     "data": {
      "text/plain": [
       "(39537, 3)"
      ]
     },
     "execution_count": 4,
     "metadata": {},
     "output_type": "execute_result"
    }
   ],
   "source": [
    "df.shape"
   ]
  },
  {
   "cell_type": "code",
   "execution_count": 5,
   "id": "bed5c74a",
   "metadata": {},
   "outputs": [],
   "source": [
    "df = df.sample(5000,ignore_index=True)"
   ]
  },
  {
   "cell_type": "code",
   "execution_count": 6,
   "id": "c2895d32",
   "metadata": {},
   "outputs": [],
   "source": [
    "import string"
   ]
  },
  {
   "cell_type": "code",
   "execution_count": 7,
   "id": "ff14525e",
   "metadata": {},
   "outputs": [
    {
     "data": {
      "text/plain": [
       "'!\"#$%&\\'()*+,-./:;<=>?@[\\\\]^_`{|}~'"
      ]
     },
     "execution_count": 7,
     "metadata": {},
     "output_type": "execute_result"
    }
   ],
   "source": [
    "panch = string.punctuation\n",
    "panch\n"
   ]
  },
  {
   "cell_type": "code",
   "execution_count": 8,
   "id": "b410cbe9",
   "metadata": {},
   "outputs": [],
   "source": [
    "def remove_panch(text):\n",
    "    mylist = []\n",
    "    for i in text.split():\n",
    "        if i not in panch:\n",
    "            mylist.append(i)\n",
    "    return \" \".join(mylist)"
   ]
  },
  {
   "cell_type": "code",
   "execution_count": 9,
   "id": "41808468",
   "metadata": {},
   "outputs": [],
   "source": [
    "df['Job Title'] = df['Job Title'].apply(remove_panch)\n",
    "df['Location'] = df['Location'].apply(remove_panch)"
   ]
  },
  {
   "cell_type": "code",
   "execution_count": 10,
   "id": "c73aa66a",
   "metadata": {},
   "outputs": [],
   "source": [
    "df['Company Name'] = df['Company Name'].astype(str)\n",
    "df['Company Name'] = df['Company Name'].apply(remove_panch)"
   ]
  },
  {
   "cell_type": "code",
   "execution_count": 11,
   "id": "845a4534",
   "metadata": {},
   "outputs": [],
   "source": [
    "df['Content'] = df.apply(lambda x: \" \".join(x.dropna().astype(str)), axis=1)"
   ]
  },
  {
   "cell_type": "code",
   "execution_count": 12,
   "id": "fd1c36a7",
   "metadata": {},
   "outputs": [
    {
     "data": {
      "text/html": [
       "<div>\n",
       "<style scoped>\n",
       "    .dataframe tbody tr th:only-of-type {\n",
       "        vertical-align: middle;\n",
       "    }\n",
       "\n",
       "    .dataframe tbody tr th {\n",
       "        vertical-align: top;\n",
       "    }\n",
       "\n",
       "    .dataframe thead th {\n",
       "        text-align: right;\n",
       "    }\n",
       "</style>\n",
       "<table border=\"1\" class=\"dataframe\">\n",
       "  <thead>\n",
       "    <tr style=\"text-align: right;\">\n",
       "      <th></th>\n",
       "      <th>Company Name</th>\n",
       "      <th>Location</th>\n",
       "      <th>Job Title</th>\n",
       "      <th>Content</th>\n",
       "    </tr>\n",
       "  </thead>\n",
       "  <tbody>\n",
       "    <tr>\n",
       "      <th>0</th>\n",
       "      <td>Infosys</td>\n",
       "      <td>Melbourne, Australia</td>\n",
       "      <td>Java Architecture Practice Lead</td>\n",
       "      <td>Infosys Melbourne, Australia Java Architecture...</td>\n",
       "    </tr>\n",
       "    <tr>\n",
       "      <th>1</th>\n",
       "      <td>ANZ</td>\n",
       "      <td>Castle Hill, New South Wales, Australia</td>\n",
       "      <td>Technology Program Manager</td>\n",
       "      <td>ANZ Castle Hill, New South Wales, Australia Te...</td>\n",
       "    </tr>\n",
       "    <tr>\n",
       "      <th>2</th>\n",
       "      <td>Harvey Nichols</td>\n",
       "      <td>Brisbane, Australia</td>\n",
       "      <td>Systems Manager</td>\n",
       "      <td>Harvey Nichols Brisbane, Australia Systems Man...</td>\n",
       "    </tr>\n",
       "    <tr>\n",
       "      <th>3</th>\n",
       "      <td>ANZ</td>\n",
       "      <td>Melbourne Area, Australia</td>\n",
       "      <td>Technical Analyst</td>\n",
       "      <td>ANZ Melbourne Area, Australia Technical Analyst</td>\n",
       "    </tr>\n",
       "    <tr>\n",
       "      <th>4</th>\n",
       "      <td>Civmec Construction Engineering</td>\n",
       "      <td>Perth, Australia</td>\n",
       "      <td>Health and Safety Superintendent</td>\n",
       "      <td>Civmec Construction Engineering Perth, Austral...</td>\n",
       "    </tr>\n",
       "    <tr>\n",
       "      <th>...</th>\n",
       "      <td>...</td>\n",
       "      <td>...</td>\n",
       "      <td>...</td>\n",
       "      <td>...</td>\n",
       "    </tr>\n",
       "    <tr>\n",
       "      <th>4995</th>\n",
       "      <td>Melbourne IT Group</td>\n",
       "      <td>Brisbane Area, Australia</td>\n",
       "      <td>Network Engineer</td>\n",
       "      <td>Melbourne IT Group Brisbane Area, Australia Ne...</td>\n",
       "    </tr>\n",
       "    <tr>\n",
       "      <th>4996</th>\n",
       "      <td>AutoGuru</td>\n",
       "      <td>Elanora, Queensland, Australia</td>\n",
       "      <td>Freelance Senior Designer</td>\n",
       "      <td>AutoGuru Elanora, Queensland, Australia Freela...</td>\n",
       "    </tr>\n",
       "    <tr>\n",
       "      <th>4997</th>\n",
       "      <td>Westpac</td>\n",
       "      <td>Sydney, Australia</td>\n",
       "      <td>Personal Banker</td>\n",
       "      <td>Westpac Sydney, Australia Personal Banker</td>\n",
       "    </tr>\n",
       "    <tr>\n",
       "      <th>4998</th>\n",
       "      <td>Westpac Group</td>\n",
       "      <td>Sydney Area, Australia</td>\n",
       "      <td>Head of Executive Office, Product Operations</td>\n",
       "      <td>Westpac Group Sydney Area, Australia Head of E...</td>\n",
       "    </tr>\n",
       "    <tr>\n",
       "      <th>4999</th>\n",
       "      <td>Brotherhood of St Laurence</td>\n",
       "      <td>Melbourne, Australia</td>\n",
       "      <td>Project Lead, Family Violence</td>\n",
       "      <td>Brotherhood of St Laurence Melbourne, Australi...</td>\n",
       "    </tr>\n",
       "  </tbody>\n",
       "</table>\n",
       "<p>5000 rows × 4 columns</p>\n",
       "</div>"
      ],
      "text/plain": [
       "                         Company Name  \\\n",
       "0                             Infosys   \n",
       "1                                 ANZ   \n",
       "2                      Harvey Nichols   \n",
       "3                                 ANZ   \n",
       "4     Civmec Construction Engineering   \n",
       "...                               ...   \n",
       "4995               Melbourne IT Group   \n",
       "4996                         AutoGuru   \n",
       "4997                          Westpac   \n",
       "4998                    Westpac Group   \n",
       "4999       Brotherhood of St Laurence   \n",
       "\n",
       "                                     Location  \\\n",
       "0                        Melbourne, Australia   \n",
       "1     Castle Hill, New South Wales, Australia   \n",
       "2                         Brisbane, Australia   \n",
       "3                   Melbourne Area, Australia   \n",
       "4                            Perth, Australia   \n",
       "...                                       ...   \n",
       "4995                 Brisbane Area, Australia   \n",
       "4996           Elanora, Queensland, Australia   \n",
       "4997                        Sydney, Australia   \n",
       "4998                   Sydney Area, Australia   \n",
       "4999                     Melbourne, Australia   \n",
       "\n",
       "                                         Job Title  \\\n",
       "0                  Java Architecture Practice Lead   \n",
       "1                       Technology Program Manager   \n",
       "2                                  Systems Manager   \n",
       "3                                Technical Analyst   \n",
       "4                 Health and Safety Superintendent   \n",
       "...                                            ...   \n",
       "4995                              Network Engineer   \n",
       "4996                     Freelance Senior Designer   \n",
       "4997                               Personal Banker   \n",
       "4998  Head of Executive Office, Product Operations   \n",
       "4999                 Project Lead, Family Violence   \n",
       "\n",
       "                                                Content  \n",
       "0     Infosys Melbourne, Australia Java Architecture...  \n",
       "1     ANZ Castle Hill, New South Wales, Australia Te...  \n",
       "2     Harvey Nichols Brisbane, Australia Systems Man...  \n",
       "3       ANZ Melbourne Area, Australia Technical Analyst  \n",
       "4     Civmec Construction Engineering Perth, Austral...  \n",
       "...                                                 ...  \n",
       "4995  Melbourne IT Group Brisbane Area, Australia Ne...  \n",
       "4996  AutoGuru Elanora, Queensland, Australia Freela...  \n",
       "4997          Westpac Sydney, Australia Personal Banker  \n",
       "4998  Westpac Group Sydney Area, Australia Head of E...  \n",
       "4999  Brotherhood of St Laurence Melbourne, Australi...  \n",
       "\n",
       "[5000 rows x 4 columns]"
      ]
     },
     "execution_count": 12,
     "metadata": {},
     "output_type": "execute_result"
    }
   ],
   "source": [
    "df"
   ]
  },
  {
   "cell_type": "code",
   "execution_count": 13,
   "id": "115ae3af",
   "metadata": {},
   "outputs": [],
   "source": [
    "from sklearn.metrics.pairwise import cosine_similarity\n",
    "from sklearn.feature_extraction.text import CountVectorizer\n",
    "cv = CountVectorizer(max_features = 5000)"
   ]
  },
  {
   "cell_type": "code",
   "execution_count": 14,
   "id": "2c2721a9",
   "metadata": {},
   "outputs": [],
   "source": [
    "metrics = cv.fit_transform(df['Content']).toarray()"
   ]
  },
  {
   "cell_type": "code",
   "execution_count": 15,
   "id": "a7cd2e2c",
   "metadata": {},
   "outputs": [
    {
     "data": {
      "text/plain": [
       "(5000, 5000)"
      ]
     },
     "execution_count": 15,
     "metadata": {},
     "output_type": "execute_result"
    }
   ],
   "source": [
    "metrics.shape"
   ]
  },
  {
   "cell_type": "code",
   "execution_count": 16,
   "id": "5f972a83",
   "metadata": {},
   "outputs": [],
   "source": [
    "similarity = cosine_similarity(metrics)"
   ]
  },
  {
   "cell_type": "code",
   "execution_count": 17,
   "id": "3bd6a633",
   "metadata": {},
   "outputs": [],
   "source": [
    "def recommend(Job_Title):\n",
    "    index = df[df['Job Title'] == Job_Title].index[0]\n",
    "    distances = sorted(list(enumerate(similarity[index])),reverse=True,key = lambda x: x[1])\n",
    "    new_index = [i[0] for i in distances[1:11]]\n",
    "    return df.iloc[new_index, :-1]"
   ]
  },
  {
   "cell_type": "code",
   "execution_count": 18,
   "id": "a90157a5",
   "metadata": {},
   "outputs": [
    {
     "data": {
      "text/html": [
       "<div>\n",
       "<style scoped>\n",
       "    .dataframe tbody tr th:only-of-type {\n",
       "        vertical-align: middle;\n",
       "    }\n",
       "\n",
       "    .dataframe tbody tr th {\n",
       "        vertical-align: top;\n",
       "    }\n",
       "\n",
       "    .dataframe thead th {\n",
       "        text-align: right;\n",
       "    }\n",
       "</style>\n",
       "<table border=\"1\" class=\"dataframe\">\n",
       "  <thead>\n",
       "    <tr style=\"text-align: right;\">\n",
       "      <th></th>\n",
       "      <th>Company Name</th>\n",
       "      <th>Location</th>\n",
       "      <th>Job Title</th>\n",
       "      <th>Content</th>\n",
       "    </tr>\n",
       "  </thead>\n",
       "  <tbody>\n",
       "    <tr>\n",
       "      <th>4391</th>\n",
       "      <td>Randstad</td>\n",
       "      <td>Sydney, Australia</td>\n",
       "      <td>Education Consultant Randstad Education</td>\n",
       "      <td>Randstad Sydney, Australia Education Consultan...</td>\n",
       "    </tr>\n",
       "    <tr>\n",
       "      <th>4137</th>\n",
       "      <td>University of Sydney</td>\n",
       "      <td>Canberra, Australia</td>\n",
       "      <td>Honorary Senior Lecturer</td>\n",
       "      <td>University of Sydney Canberra, Australia Honor...</td>\n",
       "    </tr>\n",
       "    <tr>\n",
       "      <th>141</th>\n",
       "      <td>Australian Psychological Society (APS)</td>\n",
       "      <td>Sydney, Australia</td>\n",
       "      <td>Past National Chair, College of Organisational...</td>\n",
       "      <td>Australian Psychological Society (APS) Sydney,...</td>\n",
       "    </tr>\n",
       "    <tr>\n",
       "      <th>4958</th>\n",
       "      <td>Deloitte Australia</td>\n",
       "      <td>Riverside Centre, Queensland, Australia</td>\n",
       "      <td>Deloitte Australia Restructuring Services</td>\n",
       "      <td>Deloitte Australia Riverside Centre, Queenslan...</td>\n",
       "    </tr>\n",
       "    <tr>\n",
       "      <th>496</th>\n",
       "      <td>Acuity Property Solutions</td>\n",
       "      <td>Brisbane, Queensland, Australia</td>\n",
       "      <td>Managing Director</td>\n",
       "      <td>Acuity Property Solutions Brisbane, Queensland...</td>\n",
       "    </tr>\n",
       "  </tbody>\n",
       "</table>\n",
       "</div>"
      ],
      "text/plain": [
       "                                Company Name  \\\n",
       "4391                                Randstad   \n",
       "4137                    University of Sydney   \n",
       "141   Australian Psychological Society (APS)   \n",
       "4958                      Deloitte Australia   \n",
       "496                Acuity Property Solutions   \n",
       "\n",
       "                                     Location  \\\n",
       "4391                        Sydney, Australia   \n",
       "4137                      Canberra, Australia   \n",
       "141                         Sydney, Australia   \n",
       "4958  Riverside Centre, Queensland, Australia   \n",
       "496           Brisbane, Queensland, Australia   \n",
       "\n",
       "                                              Job Title  \\\n",
       "4391            Education Consultant Randstad Education   \n",
       "4137                           Honorary Senior Lecturer   \n",
       "141   Past National Chair, College of Organisational...   \n",
       "4958          Deloitte Australia Restructuring Services   \n",
       "496                                   Managing Director   \n",
       "\n",
       "                                                Content  \n",
       "4391  Randstad Sydney, Australia Education Consultan...  \n",
       "4137  University of Sydney Canberra, Australia Honor...  \n",
       "141   Australian Psychological Society (APS) Sydney,...  \n",
       "4958  Deloitte Australia Riverside Centre, Queenslan...  \n",
       "496   Acuity Property Solutions Brisbane, Queensland...  "
      ]
     },
     "execution_count": 18,
     "metadata": {},
     "output_type": "execute_result"
    }
   ],
   "source": [
    "df.sample(5)"
   ]
  },
  {
   "cell_type": "code",
   "execution_count": 19,
   "id": "320871cd",
   "metadata": {},
   "outputs": [
    {
     "data": {
      "text/html": [
       "<div>\n",
       "<style scoped>\n",
       "    .dataframe tbody tr th:only-of-type {\n",
       "        vertical-align: middle;\n",
       "    }\n",
       "\n",
       "    .dataframe tbody tr th {\n",
       "        vertical-align: top;\n",
       "    }\n",
       "\n",
       "    .dataframe thead th {\n",
       "        text-align: right;\n",
       "    }\n",
       "</style>\n",
       "<table border=\"1\" class=\"dataframe\">\n",
       "  <thead>\n",
       "    <tr style=\"text-align: right;\">\n",
       "      <th></th>\n",
       "      <th>Company Name</th>\n",
       "      <th>Location</th>\n",
       "      <th>Job Title</th>\n",
       "    </tr>\n",
       "  </thead>\n",
       "  <tbody>\n",
       "    <tr>\n",
       "      <th>3131</th>\n",
       "      <td>Futurespace</td>\n",
       "      <td>Sydney, Australia</td>\n",
       "      <td>Interior Designer</td>\n",
       "    </tr>\n",
       "    <tr>\n",
       "      <th>809</th>\n",
       "      <td>Optus</td>\n",
       "      <td>Sydney Area, Australia</td>\n",
       "      <td>Solution Designer</td>\n",
       "    </tr>\n",
       "    <tr>\n",
       "      <th>1243</th>\n",
       "      <td>Optus</td>\n",
       "      <td>Sydney Area, Australia</td>\n",
       "      <td>Digital Designer</td>\n",
       "    </tr>\n",
       "    <tr>\n",
       "      <th>2782</th>\n",
       "      <td>Atlassian</td>\n",
       "      <td>Sydney Area, Australia</td>\n",
       "      <td>Graduate Designer</td>\n",
       "    </tr>\n",
       "    <tr>\n",
       "      <th>3714</th>\n",
       "      <td>Redcoal</td>\n",
       "      <td>Sydney Area, Australia</td>\n",
       "      <td>Graphic Designer</td>\n",
       "    </tr>\n",
       "    <tr>\n",
       "      <th>4472</th>\n",
       "      <td>Marchese Partners</td>\n",
       "      <td>Sydney, Australia</td>\n",
       "      <td>Interior Designer</td>\n",
       "    </tr>\n",
       "    <tr>\n",
       "      <th>2373</th>\n",
       "      <td>ATENASTUDIO</td>\n",
       "      <td>Sydney Area, Australia</td>\n",
       "      <td>Architectural Designer/Graphic Designer</td>\n",
       "    </tr>\n",
       "    <tr>\n",
       "      <th>1061</th>\n",
       "      <td>ASG Group</td>\n",
       "      <td>Sydney Area, Australia</td>\n",
       "      <td>IT Architect</td>\n",
       "    </tr>\n",
       "    <tr>\n",
       "      <th>2847</th>\n",
       "      <td>WSP</td>\n",
       "      <td>Sydney Area, Australia</td>\n",
       "      <td>IT solution developer</td>\n",
       "    </tr>\n",
       "    <tr>\n",
       "      <th>3902</th>\n",
       "      <td>Aukett Swanke</td>\n",
       "      <td>Sydney, Australia</td>\n",
       "      <td>Interior Designer Workplace</td>\n",
       "    </tr>\n",
       "  </tbody>\n",
       "</table>\n",
       "</div>"
      ],
      "text/plain": [
       "           Company Name                Location  \\\n",
       "3131        Futurespace       Sydney, Australia   \n",
       "809               Optus  Sydney Area, Australia   \n",
       "1243              Optus  Sydney Area, Australia   \n",
       "2782          Atlassian  Sydney Area, Australia   \n",
       "3714            Redcoal  Sydney Area, Australia   \n",
       "4472  Marchese Partners       Sydney, Australia   \n",
       "2373        ATENASTUDIO  Sydney Area, Australia   \n",
       "1061          ASG Group  Sydney Area, Australia   \n",
       "2847                WSP  Sydney Area, Australia   \n",
       "3902      Aukett Swanke       Sydney, Australia   \n",
       "\n",
       "                                    Job Title  \n",
       "3131                        Interior Designer  \n",
       "809                         Solution Designer  \n",
       "1243                         Digital Designer  \n",
       "2782                        Graduate Designer  \n",
       "3714                         Graphic Designer  \n",
       "4472                        Interior Designer  \n",
       "2373  Architectural Designer/Graphic Designer  \n",
       "1061                             IT Architect  \n",
       "2847                    IT solution developer  \n",
       "3902              Interior Designer Workplace  "
      ]
     },
     "execution_count": 19,
     "metadata": {},
     "output_type": "execute_result"
    }
   ],
   "source": [
    "recommend('Interior Designer')"
   ]
  },
  {
   "cell_type": "code",
   "execution_count": null,
   "id": "33690a2f",
   "metadata": {},
   "outputs": [],
   "source": []
  }
 ],
 "metadata": {
  "kernelspec": {
   "display_name": "Python 3 (ipykernel)",
   "language": "python",
   "name": "python3"
  },
  "language_info": {
   "codemirror_mode": {
    "name": "ipython",
    "version": 3
   },
   "file_extension": ".py",
   "mimetype": "text/x-python",
   "name": "python",
   "nbconvert_exporter": "python",
   "pygments_lexer": "ipython3",
   "version": "3.10.9"
  }
 },
 "nbformat": 4,
 "nbformat_minor": 5
}
