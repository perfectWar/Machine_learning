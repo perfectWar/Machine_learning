{
 "cells": [
  {
   "cell_type": "markdown",
   "id": "07956b6a",
   "metadata": {},
   "source": [
    "# Function Transformer "
   ]
  },
  {
   "cell_type": "code",
   "execution_count": 1,
   "id": "a6464874",
   "metadata": {},
   "outputs": [],
   "source": [
    "from sklearn.preprocessing import FunctionTransformer"
   ]
  },
  {
   "cell_type": "code",
   "execution_count": 2,
   "id": "d4eaee62",
   "metadata": {},
   "outputs": [],
   "source": [
    "import numpy as np"
   ]
  },
  {
   "cell_type": "code",
   "execution_count": 3,
   "id": "87121c09",
   "metadata": {},
   "outputs": [],
   "source": [
    "#example 1\n",
    "X = np.array([[1,2],[3,4]])\n",
    "\n",
    "log_transform = FunctionTransformer(np.log1p)"
   ]
  },
  {
   "cell_type": "code",
   "execution_count": 4,
   "id": "1c23988a",
   "metadata": {},
   "outputs": [],
   "source": [
    "X_transformed = log_transform.transform(X)"
   ]
  },
  {
   "cell_type": "code",
   "execution_count": 6,
   "id": "1916a2a0",
   "metadata": {},
   "outputs": [
    {
     "data": {
      "text/plain": [
       "array([[0.69314718, 1.09861229],\n",
       "       [1.38629436, 1.60943791]])"
      ]
     },
     "execution_count": 6,
     "metadata": {},
     "output_type": "execute_result"
    }
   ],
   "source": [
    "X_transformed"
   ]
  },
  {
   "cell_type": "markdown",
   "id": "4b031a1e",
   "metadata": {},
   "source": [
    "# types of function transformer in machine learning"
   ]
  },
  {
   "cell_type": "code",
   "execution_count": 10,
   "id": "2c45da60",
   "metadata": {},
   "outputs": [],
   "source": [
    "#example 2\n",
    "X = np.array([[1,2],[3,4]])\n",
    "def my_feature_engineering(X):\n",
    "    return np.hstack((X,X**2))"
   ]
  },
  {
   "cell_type": "code",
   "execution_count": 11,
   "id": "07d61144",
   "metadata": {},
   "outputs": [],
   "source": [
    "customer_transformer = FunctionTransformer(my_feature_engineering)"
   ]
  },
  {
   "cell_type": "code",
   "execution_count": 12,
   "id": "25249091",
   "metadata": {},
   "outputs": [],
   "source": [
    "X_transformed = customer_transformer.transform(X)"
   ]
  },
  {
   "cell_type": "code",
   "execution_count": 13,
   "id": "10173abf",
   "metadata": {},
   "outputs": [
    {
     "data": {
      "text/plain": [
       "array([[ 1,  2,  1,  4],\n",
       "       [ 3,  4,  9, 16]])"
      ]
     },
     "execution_count": 13,
     "metadata": {},
     "output_type": "execute_result"
    }
   ],
   "source": [
    "X_transformed"
   ]
  },
  {
   "cell_type": "code",
   "execution_count": 14,
   "id": "3722164b",
   "metadata": {},
   "outputs": [],
   "source": [
    "#example 3\n",
    "X = np.array([[1,2],[3,4]])\n",
    "def my_scaling(X):\n",
    "    return X/ np.max(X)"
   ]
  },
  {
   "cell_type": "code",
   "execution_count": 15,
   "id": "e22983f9",
   "metadata": {},
   "outputs": [],
   "source": [
    "custom_transformer = FunctionTransformer(my_scaling)"
   ]
  },
  {
   "cell_type": "code",
   "execution_count": 17,
   "id": "759c6e9d",
   "metadata": {},
   "outputs": [],
   "source": [
    "X_trandformed = custom_transformer.transform(X)"
   ]
  },
  {
   "cell_type": "code",
   "execution_count": 18,
   "id": "73627466",
   "metadata": {},
   "outputs": [
    {
     "data": {
      "text/plain": [
       "array([[0.25, 0.5 ],\n",
       "       [0.75, 1.  ]])"
      ]
     },
     "execution_count": 18,
     "metadata": {},
     "output_type": "execute_result"
    }
   ],
   "source": [
    "X_trandformed"
   ]
  },
  {
   "cell_type": "code",
   "execution_count": 19,
   "id": "ee57879a",
   "metadata": {},
   "outputs": [],
   "source": [
    "#example 4\n",
    "X = np.array([[1,2],[3,np.nan]])"
   ]
  },
  {
   "cell_type": "code",
   "execution_count": 20,
   "id": "4706dd92",
   "metadata": {},
   "outputs": [],
   "source": [
    "def my_cleaning(X):\n",
    "    X[np.isnan(X)] = 0\n",
    "    return X"
   ]
  },
  {
   "cell_type": "code",
   "execution_count": 21,
   "id": "05c5cd93",
   "metadata": {},
   "outputs": [],
   "source": [
    "custom_transformer = FunctionTransformer(my_cleaning)"
   ]
  },
  {
   "cell_type": "code",
   "execution_count": 22,
   "id": "eb951129",
   "metadata": {},
   "outputs": [],
   "source": [
    "X_trandformed = custom_transformer.transform(X)"
   ]
  },
  {
   "cell_type": "code",
   "execution_count": 23,
   "id": "1c27242e",
   "metadata": {},
   "outputs": [
    {
     "data": {
      "text/plain": [
       "array([[1., 2.],\n",
       "       [3., 0.]])"
      ]
     },
     "execution_count": 23,
     "metadata": {},
     "output_type": "execute_result"
    }
   ],
   "source": [
    "X_trandformed"
   ]
  },
  {
   "cell_type": "code",
   "execution_count": null,
   "id": "8968460b",
   "metadata": {},
   "outputs": [],
   "source": []
  }
 ],
 "metadata": {
  "kernelspec": {
   "display_name": "Python 3 (ipykernel)",
   "language": "python",
   "name": "python3"
  },
  "language_info": {
   "codemirror_mode": {
    "name": "ipython",
    "version": 3
   },
   "file_extension": ".py",
   "mimetype": "text/x-python",
   "name": "python",
   "nbconvert_exporter": "python",
   "pygments_lexer": "ipython3",
   "version": "3.10.9"
  }
 },
 "nbformat": 4,
 "nbformat_minor": 5
}
