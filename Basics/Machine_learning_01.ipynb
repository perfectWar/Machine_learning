{
 "cells": [
  {
   "cell_type": "code",
   "execution_count": 1,
   "id": "b5ed1b04",
   "metadata": {},
   "outputs": [],
   "source": [
    "# introduction to numpy ===>\n",
    "# why numpy is better than list\n",
    "# 1. same data type (array)\n",
    "#2. memory consume ===> np less and list high \n",
    "# compution power ==> numpy high and lish less\n",
    "# function numpy high list less"
   ]
  },
  {
   "cell_type": "code",
   "execution_count": 2,
   "id": "a2410ea6",
   "metadata": {},
   "outputs": [
    {
     "data": {
      "text/plain": [
       "list"
      ]
     },
     "execution_count": 2,
     "metadata": {},
     "output_type": "execute_result"
    }
   ],
   "source": [
    "import numpy as np\n",
    "a = [1,2,3,4]\n",
    "type(a)"
   ]
  },
  {
   "cell_type": "code",
   "execution_count": 3,
   "id": "f2598fa7",
   "metadata": {},
   "outputs": [
    {
     "data": {
      "text/plain": [
       "array([1, 2, 3, 4])"
      ]
     },
     "execution_count": 3,
     "metadata": {},
     "output_type": "execute_result"
    }
   ],
   "source": [
    "b = np.array(a)\n",
    "b"
   ]
  },
  {
   "cell_type": "code",
   "execution_count": 4,
   "id": "9b9d4f31",
   "metadata": {},
   "outputs": [
    {
     "data": {
      "text/plain": [
       "numpy.ndarray"
      ]
     },
     "execution_count": 4,
     "metadata": {},
     "output_type": "execute_result"
    }
   ],
   "source": [
    "type(b)"
   ]
  },
  {
   "cell_type": "code",
   "execution_count": 5,
   "id": "4b2a1332",
   "metadata": {},
   "outputs": [
    {
     "name": "stdout",
     "output_type": "stream",
     "text": [
      "3\n",
      "Enter the number : 1\n",
      "Enter the number : 2\n",
      "Enter the number : 34\n",
      "<class 'list'>\n",
      "<class 'numpy.ndarray'>\n"
     ]
    }
   ],
   "source": [
    "l = []\n",
    "n = int(input())\n",
    "for i in range(n):\n",
    "    a = int(input(\"Enter the number : \"))\n",
    "    l.append(a)\n",
    "print(type(l))\n",
    "array = np.array(l)\n",
    "print(type(array))"
   ]
  },
  {
   "cell_type": "markdown",
   "id": "6dd53b64",
   "metadata": {},
   "source": [
    "# Check for shape and size "
   ]
  },
  {
   "cell_type": "code",
   "execution_count": 6,
   "id": "14cc2c23",
   "metadata": {},
   "outputs": [],
   "source": [
    "#shape ==> n(rows) , n(columns)\n",
    "# size ==> number of elements ==> n(rows)*n(columns)"
   ]
  },
  {
   "cell_type": "code",
   "execution_count": 7,
   "id": "486adbf1",
   "metadata": {},
   "outputs": [
    {
     "name": "stdout",
     "output_type": "stream",
     "text": [
      "Total shape :  (4,)\n"
     ]
    }
   ],
   "source": [
    "print(\"Total shape : \", b.shape)"
   ]
  },
  {
   "cell_type": "code",
   "execution_count": 8,
   "id": "8732912e",
   "metadata": {},
   "outputs": [
    {
     "data": {
      "text/plain": [
       "4"
      ]
     },
     "execution_count": 8,
     "metadata": {},
     "output_type": "execute_result"
    }
   ],
   "source": [
    "b.size"
   ]
  },
  {
   "cell_type": "code",
   "execution_count": 9,
   "id": "62ce57a7",
   "metadata": {},
   "outputs": [],
   "source": [
    "a = [[1,2,3],[2,3,4],[3,4,5]]\n",
    "b = np.array(a)"
   ]
  },
  {
   "cell_type": "code",
   "execution_count": 10,
   "id": "a5a83554",
   "metadata": {},
   "outputs": [
    {
     "data": {
      "text/plain": [
       "(3, 3)"
      ]
     },
     "execution_count": 10,
     "metadata": {},
     "output_type": "execute_result"
    }
   ],
   "source": [
    "b.shape"
   ]
  },
  {
   "cell_type": "code",
   "execution_count": 11,
   "id": "db295d5d",
   "metadata": {},
   "outputs": [
    {
     "data": {
      "text/plain": [
       "9"
      ]
     },
     "execution_count": 11,
     "metadata": {},
     "output_type": "execute_result"
    }
   ],
   "source": [
    "b.size"
   ]
  },
  {
   "cell_type": "code",
   "execution_count": 12,
   "id": "f3f6a618",
   "metadata": {},
   "outputs": [],
   "source": [
    "#image ==> pixels ===> (0-255) ===> 0 - (black), 255 - (white)\n",
    "# convert ===> grayscale image ===>\n",
    "# image(Pixels) ===> normalization(0-1)===> 0px (black) 1px (white)\n",
    "\n",
    "# 0,1 ===> Neoron system\n",
    "\n",
    "# Matrix ===> rows, column\n",
    "# symmatrix matrix ===> n(row) = n(columns)\n",
    "# Asymmatrix matrix ===> n(row) != n(columns)\n",
    "# diagonal elements = [(1,1),(2,2),(3,3)...(n,n)]"
   ]
  },
  {
   "cell_type": "markdown",
   "id": "d62fa0f0",
   "metadata": {},
   "source": [
    "# 1. zeros() ===> it will create an array in which all the elements are zero."
   ]
  },
  {
   "cell_type": "code",
   "execution_count": 13,
   "id": "4d41dad3",
   "metadata": {},
   "outputs": [
    {
     "data": {
      "text/plain": [
       "array([0., 0., 0., 0.])"
      ]
     },
     "execution_count": 13,
     "metadata": {},
     "output_type": "execute_result"
    }
   ],
   "source": [
    "np.zeros(4)"
   ]
  },
  {
   "cell_type": "code",
   "execution_count": 21,
   "id": "b4b553d9",
   "metadata": {},
   "outputs": [
    {
     "data": {
      "text/plain": [
       "array([[0., 0., 0., 0.],\n",
       "       [0., 0., 0., 0.],\n",
       "       [0., 0., 0., 0.]])"
      ]
     },
     "execution_count": 21,
     "metadata": {},
     "output_type": "execute_result"
    }
   ],
   "source": [
    " a = np.zeros((3,4))\n",
    "a"
   ]
  },
  {
   "cell_type": "code",
   "execution_count": 20,
   "id": "f7e0b8e6",
   "metadata": {},
   "outputs": [
    {
     "data": {
      "text/plain": [
       "(3, 4)"
      ]
     },
     "execution_count": 20,
     "metadata": {},
     "output_type": "execute_result"
    }
   ],
   "source": [
    "np.shape(a)"
   ]
  },
  {
   "cell_type": "markdown",
   "id": "1f032669",
   "metadata": {},
   "source": [
    "# 2. ones() ===> it will create an array in which all the values are one"
   ]
  },
  {
   "cell_type": "markdown",
   "id": "f625998e",
   "metadata": {},
   "source": [
    "# 3. eye() ===> this function will create an array of diagonal elements"
   ]
  },
  {
   "cell_type": "code",
   "execution_count": 22,
   "id": "53477384",
   "metadata": {},
   "outputs": [
    {
     "data": {
      "text/plain": [
       "array([[1., 1., 1.],\n",
       "       [1., 1., 1.]])"
      ]
     },
     "execution_count": 22,
     "metadata": {},
     "output_type": "execute_result"
    }
   ],
   "source": [
    "np.ones((2,3))"
   ]
  },
  {
   "cell_type": "code",
   "execution_count": 23,
   "id": "c6f16a9a",
   "metadata": {},
   "outputs": [
    {
     "data": {
      "text/plain": [
       "array([[1.]])"
      ]
     },
     "execution_count": 23,
     "metadata": {},
     "output_type": "execute_result"
    }
   ],
   "source": [
    "np.eye(1)"
   ]
  },
  {
   "cell_type": "code",
   "execution_count": 24,
   "id": "c383ea83",
   "metadata": {},
   "outputs": [
    {
     "data": {
      "text/plain": [
       "array([[1., 0., 0., 0.],\n",
       "       [0., 1., 0., 0.],\n",
       "       [0., 0., 1., 0.],\n",
       "       [0., 0., 0., 1.]])"
      ]
     },
     "execution_count": 24,
     "metadata": {},
     "output_type": "execute_result"
    }
   ],
   "source": [
    "np.eye(4)"
   ]
  },
  {
   "cell_type": "code",
   "execution_count": 26,
   "id": "010c9a62",
   "metadata": {},
   "outputs": [
    {
     "data": {
      "text/plain": [
       "array([[1., 0., 0., 0.],\n",
       "       [0., 1., 0., 0.],\n",
       "       [0., 0., 1., 0.]])"
      ]
     },
     "execution_count": 26,
     "metadata": {},
     "output_type": "execute_result"
    }
   ],
   "source": [
    "np.eye(3,4)"
   ]
  },
  {
   "cell_type": "code",
   "execution_count": null,
   "id": "e24688a4",
   "metadata": {},
   "outputs": [],
   "source": []
  },
  {
   "cell_type": "code",
   "execution_count": null,
   "id": "033b1229",
   "metadata": {},
   "outputs": [],
   "source": []
  }
 ],
 "metadata": {
  "kernelspec": {
   "display_name": "Python 3 (ipykernel)",
   "language": "python",
   "name": "python3"
  },
  "language_info": {
   "codemirror_mode": {
    "name": "ipython",
    "version": 3
   },
   "file_extension": ".py",
   "mimetype": "text/x-python",
   "name": "python",
   "nbconvert_exporter": "python",
   "pygments_lexer": "ipython3",
   "version": "3.10.9"
  }
 },
 "nbformat": 4,
 "nbformat_minor": 5
}
