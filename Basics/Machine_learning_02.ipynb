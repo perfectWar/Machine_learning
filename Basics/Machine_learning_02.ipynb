{
 "cells": [
  {
   "cell_type": "markdown",
   "id": "3379579d",
   "metadata": {},
   "source": [
    "# diag ===> this function create a two dimensional array with all the diagonal elements as the given value and rest are zero"
   ]
  },
  {
   "cell_type": "code",
   "execution_count": 4,
   "id": "1a556024",
   "metadata": {},
   "outputs": [
    {
     "data": {
      "text/plain": [
       "array([[1, 0, 0, 0],\n",
       "       [0, 2, 0, 0],\n",
       "       [0, 0, 3, 0],\n",
       "       [0, 0, 0, 4]])"
      ]
     },
     "execution_count": 4,
     "metadata": {},
     "output_type": "execute_result"
    }
   ],
   "source": [
    "import numpy as np\n",
    "a = np.diag([1,2,3,4])\n",
    "a"
   ]
  },
  {
   "cell_type": "markdown",
   "id": "efaaa481",
   "metadata": {},
   "source": [
    "# randint ===> this function is used to generate a random number between a given range"
   ]
  },
  {
   "cell_type": "markdown",
   "id": "57285fb7",
   "metadata": {},
   "source": [
    "# syntax = randint(min,max,total_num)"
   ]
  },
  {
   "cell_type": "code",
   "execution_count": 6,
   "id": "efb9b82f",
   "metadata": {},
   "outputs": [
    {
     "data": {
      "text/plain": [
       "array([2, 3, 9])"
      ]
     },
     "execution_count": 6,
     "metadata": {},
     "output_type": "execute_result"
    }
   ],
   "source": [
    "a = np.random.randint(1,10,3)\n",
    "a"
   ]
  },
  {
   "cell_type": "markdown",
   "id": "29395321",
   "metadata": {},
   "source": [
    "# rand() ===> this function is used to genereate a random number between 0 to 1"
   ]
  },
  {
   "cell_type": "markdown",
   "id": "cb98defb",
   "metadata": {},
   "source": [
    "# syntax = rand(number of values)"
   ]
  },
  {
   "cell_type": "code",
   "execution_count": 9,
   "id": "876da3a0",
   "metadata": {},
   "outputs": [
    {
     "data": {
      "text/plain": [
       "array([0.07733772, 0.05100379, 0.52103562, 0.57303189, 0.29084741])"
      ]
     },
     "execution_count": 9,
     "metadata": {},
     "output_type": "execute_result"
    }
   ],
   "source": [
    "a = np.random.rand(5)\n",
    "a"
   ]
  },
  {
   "cell_type": "markdown",
   "id": "96dd834b",
   "metadata": {},
   "source": [
    "# randn() ==> this function is used to generate a random number from -3 to close 3. this may return positive and negative number as well"
   ]
  },
  {
   "cell_type": "code",
   "execution_count": 11,
   "id": "6757e43a",
   "metadata": {},
   "outputs": [
    {
     "data": {
      "text/plain": [
       "array([ 1.55219471,  0.32662268, -0.81531108,  0.7005734 ,  0.1293878 ])"
      ]
     },
     "execution_count": 11,
     "metadata": {},
     "output_type": "execute_result"
    }
   ],
   "source": [
    "a = np.random.randn(5)\n",
    "a"
   ]
  },
  {
   "cell_type": "markdown",
   "id": "933e5752",
   "metadata": {},
   "source": [
    "# Reshaping the data"
   ]
  },
  {
   "cell_type": "code",
   "execution_count": 19,
   "id": "424bc5e3",
   "metadata": {},
   "outputs": [
    {
     "data": {
      "text/plain": [
       "array([ 3, 34,  2,  1, 17, 37, 41, 42, 41, 18, 46, 13])"
      ]
     },
     "execution_count": 19,
     "metadata": {},
     "output_type": "execute_result"
    }
   ],
   "source": [
    "# n(rows) * n(columns) = total number of element \n",
    "a = np.random.randint(1,50,12)\n",
    "a"
   ]
  },
  {
   "cell_type": "code",
   "execution_count": 20,
   "id": "a4c19f0d",
   "metadata": {},
   "outputs": [
    {
     "data": {
      "text/plain": [
       "(12,)"
      ]
     },
     "execution_count": 20,
     "metadata": {},
     "output_type": "execute_result"
    }
   ],
   "source": [
    "a.shape"
   ]
  },
  {
   "cell_type": "code",
   "execution_count": 21,
   "id": "ac99f1b2",
   "metadata": {},
   "outputs": [
    {
     "data": {
      "text/plain": [
       "array([[ 3, 34,  2,  1, 17, 37],\n",
       "       [41, 42, 41, 18, 46, 13]])"
      ]
     },
     "execution_count": 21,
     "metadata": {},
     "output_type": "execute_result"
    }
   ],
   "source": [
    "a = a.reshape(2,6)\n",
    "a"
   ]
  },
  {
   "cell_type": "code",
   "execution_count": 22,
   "id": "f6fd5a41",
   "metadata": {},
   "outputs": [
    {
     "data": {
      "text/plain": [
       "array([[ 3, 34,  2,  1],\n",
       "       [17, 37, 41, 42],\n",
       "       [41, 18, 46, 13]])"
      ]
     },
     "execution_count": 22,
     "metadata": {},
     "output_type": "execute_result"
    }
   ],
   "source": [
    "a = a .reshape(3,4)\n",
    "a"
   ]
  },
  {
   "cell_type": "code",
   "execution_count": 23,
   "id": "1d35c6ce",
   "metadata": {},
   "outputs": [
    {
     "data": {
      "text/plain": [
       "array([95, 64, 65, 71, 47, 41, 83, 74, 89, 71, 80, 99, 57, 76, 10, 13, 64,\n",
       "       51, 79, 34, 31, 90, 87, 32, 80,  3, 57,  4, 75, 58,  3, 50, 79, 47,\n",
       "       91,  3, 27, 12, 10, 35, 20, 67, 50, 82, 61,  2, 34, 93,  6, 40, 10,\n",
       "       52,  9, 11,  6,  2, 89, 43, 44, 30, 37, 95, 16,  4])"
      ]
     },
     "execution_count": 23,
     "metadata": {},
     "output_type": "execute_result"
    }
   ],
   "source": [
    "a = np.random.randint(1,100,64)\n",
    "a"
   ]
  },
  {
   "cell_type": "code",
   "execution_count": 24,
   "id": "cf8595c9",
   "metadata": {},
   "outputs": [
    {
     "data": {
      "text/plain": [
       "(64,)"
      ]
     },
     "execution_count": 24,
     "metadata": {},
     "output_type": "execute_result"
    }
   ],
   "source": [
    "a.shape"
   ]
  },
  {
   "cell_type": "code",
   "execution_count": 25,
   "id": "c6cd9ef7",
   "metadata": {},
   "outputs": [
    {
     "data": {
      "text/plain": [
       "array([[95, 64, 65, 71, 47, 41, 83, 74, 89, 71, 80, 99, 57, 76, 10, 13,\n",
       "        64, 51, 79, 34, 31, 90, 87, 32, 80,  3, 57,  4, 75, 58,  3, 50],\n",
       "       [79, 47, 91,  3, 27, 12, 10, 35, 20, 67, 50, 82, 61,  2, 34, 93,\n",
       "         6, 40, 10, 52,  9, 11,  6,  2, 89, 43, 44, 30, 37, 95, 16,  4]])"
      ]
     },
     "execution_count": 25,
     "metadata": {},
     "output_type": "execute_result"
    }
   ],
   "source": [
    "a.reshape(2,32)"
   ]
  },
  {
   "cell_type": "code",
   "execution_count": 26,
   "id": "64c42035",
   "metadata": {},
   "outputs": [
    {
     "data": {
      "text/plain": [
       "array([[95, 64],\n",
       "       [65, 71],\n",
       "       [47, 41],\n",
       "       [83, 74],\n",
       "       [89, 71],\n",
       "       [80, 99],\n",
       "       [57, 76],\n",
       "       [10, 13],\n",
       "       [64, 51],\n",
       "       [79, 34],\n",
       "       [31, 90],\n",
       "       [87, 32],\n",
       "       [80,  3],\n",
       "       [57,  4],\n",
       "       [75, 58],\n",
       "       [ 3, 50],\n",
       "       [79, 47],\n",
       "       [91,  3],\n",
       "       [27, 12],\n",
       "       [10, 35],\n",
       "       [20, 67],\n",
       "       [50, 82],\n",
       "       [61,  2],\n",
       "       [34, 93],\n",
       "       [ 6, 40],\n",
       "       [10, 52],\n",
       "       [ 9, 11],\n",
       "       [ 6,  2],\n",
       "       [89, 43],\n",
       "       [44, 30],\n",
       "       [37, 95],\n",
       "       [16,  4]])"
      ]
     },
     "execution_count": 26,
     "metadata": {},
     "output_type": "execute_result"
    }
   ],
   "source": [
    "a.reshape(32,2)"
   ]
  },
  {
   "cell_type": "code",
   "execution_count": 27,
   "id": "fff59d36",
   "metadata": {},
   "outputs": [
    {
     "data": {
      "text/plain": [
       "array([[95, 64, 65, 71],\n",
       "       [47, 41, 83, 74],\n",
       "       [89, 71, 80, 99],\n",
       "       [57, 76, 10, 13],\n",
       "       [64, 51, 79, 34],\n",
       "       [31, 90, 87, 32],\n",
       "       [80,  3, 57,  4],\n",
       "       [75, 58,  3, 50],\n",
       "       [79, 47, 91,  3],\n",
       "       [27, 12, 10, 35],\n",
       "       [20, 67, 50, 82],\n",
       "       [61,  2, 34, 93],\n",
       "       [ 6, 40, 10, 52],\n",
       "       [ 9, 11,  6,  2],\n",
       "       [89, 43, 44, 30],\n",
       "       [37, 95, 16,  4]])"
      ]
     },
     "execution_count": 27,
     "metadata": {},
     "output_type": "execute_result"
    }
   ],
   "source": [
    "a.reshape(16,4)"
   ]
  },
  {
   "cell_type": "code",
   "execution_count": 28,
   "id": "04319aa9",
   "metadata": {},
   "outputs": [
    {
     "data": {
      "text/plain": [
       "array([[95, 64, 65, 71, 47, 41, 83, 74, 89, 71, 80, 99, 57, 76, 10, 13],\n",
       "       [64, 51, 79, 34, 31, 90, 87, 32, 80,  3, 57,  4, 75, 58,  3, 50],\n",
       "       [79, 47, 91,  3, 27, 12, 10, 35, 20, 67, 50, 82, 61,  2, 34, 93],\n",
       "       [ 6, 40, 10, 52,  9, 11,  6,  2, 89, 43, 44, 30, 37, 95, 16,  4]])"
      ]
     },
     "execution_count": 28,
     "metadata": {},
     "output_type": "execute_result"
    }
   ],
   "source": [
    "a.reshape(4,16)"
   ]
  },
  {
   "cell_type": "code",
   "execution_count": 29,
   "id": "cee3d474",
   "metadata": {},
   "outputs": [
    {
     "data": {
      "text/plain": [
       "array([[95, 64, 65, 71, 47, 41, 83, 74],\n",
       "       [89, 71, 80, 99, 57, 76, 10, 13],\n",
       "       [64, 51, 79, 34, 31, 90, 87, 32],\n",
       "       [80,  3, 57,  4, 75, 58,  3, 50],\n",
       "       [79, 47, 91,  3, 27, 12, 10, 35],\n",
       "       [20, 67, 50, 82, 61,  2, 34, 93],\n",
       "       [ 6, 40, 10, 52,  9, 11,  6,  2],\n",
       "       [89, 43, 44, 30, 37, 95, 16,  4]])"
      ]
     },
     "execution_count": 29,
     "metadata": {},
     "output_type": "execute_result"
    }
   ],
   "source": [
    "a.reshape(8,8)"
   ]
  },
  {
   "cell_type": "markdown",
   "id": "05c7cc37",
   "metadata": {},
   "source": [
    "# principal of -1"
   ]
  },
  {
   "cell_type": "code",
   "execution_count": 31,
   "id": "3fc98366",
   "metadata": {},
   "outputs": [
    {
     "data": {
      "text/plain": [
       "array([[95, 64, 65, 71],\n",
       "       [47, 41, 83, 74],\n",
       "       [89, 71, 80, 99],\n",
       "       [57, 76, 10, 13],\n",
       "       [64, 51, 79, 34],\n",
       "       [31, 90, 87, 32],\n",
       "       [80,  3, 57,  4],\n",
       "       [75, 58,  3, 50],\n",
       "       [79, 47, 91,  3],\n",
       "       [27, 12, 10, 35],\n",
       "       [20, 67, 50, 82],\n",
       "       [61,  2, 34, 93],\n",
       "       [ 6, 40, 10, 52],\n",
       "       [ 9, 11,  6,  2],\n",
       "       [89, 43, 44, 30],\n",
       "       [37, 95, 16,  4]])"
      ]
     },
     "execution_count": 31,
     "metadata": {},
     "output_type": "execute_result"
    }
   ],
   "source": [
    "a = a.reshape(-1,4)\n",
    "a"
   ]
  },
  {
   "cell_type": "code",
   "execution_count": 33,
   "id": "46fcdb56",
   "metadata": {},
   "outputs": [
    {
     "data": {
      "text/plain": [
       "array([[95, 64, 65, 71, 47, 41, 83, 74, 89, 71, 80, 99, 57, 76, 10, 13],\n",
       "       [64, 51, 79, 34, 31, 90, 87, 32, 80,  3, 57,  4, 75, 58,  3, 50],\n",
       "       [79, 47, 91,  3, 27, 12, 10, 35, 20, 67, 50, 82, 61,  2, 34, 93],\n",
       "       [ 6, 40, 10, 52,  9, 11,  6,  2, 89, 43, 44, 30, 37, 95, 16,  4]])"
      ]
     },
     "execution_count": 33,
     "metadata": {},
     "output_type": "execute_result"
    }
   ],
   "source": [
    "a = a.reshape(4,-1)\n",
    "a"
   ]
  },
  {
   "cell_type": "markdown",
   "id": "887bc46a",
   "metadata": {},
   "source": [
    "# seed function() ==> we know that randint function generates random numbers. everytime we run the program, new set of random number is generated. so solve this problem we wi;; use seed function"
   ]
  },
  {
   "cell_type": "code",
   "execution_count": 42,
   "id": "b5ac4d85",
   "metadata": {},
   "outputs": [
    {
     "data": {
      "text/plain": [
       "array([4, 7, 7])"
      ]
     },
     "execution_count": 42,
     "metadata": {},
     "output_type": "execute_result"
    }
   ],
   "source": [
    "np.random.seed(5)\n",
    "a = np.random.randint(1,10,3)\n",
    "# np.random.seed(5)\n",
    "a"
   ]
  },
  {
   "cell_type": "markdown",
   "id": "80605062",
   "metadata": {},
   "source": [
    "# view vs copy ===> when we slice a sub- array from an array,, it may be done by two ways"
   ]
  },
  {
   "cell_type": "code",
   "execution_count": 45,
   "id": "33a46416",
   "metadata": {},
   "outputs": [],
   "source": [
    "a = np.array([10,20,30,40,50,60,70,80])"
   ]
  },
  {
   "cell_type": "code",
   "execution_count": 46,
   "id": "5b8fab1b",
   "metadata": {},
   "outputs": [
    {
     "data": {
      "text/plain": [
       "array([10, 20, 30,  0,  0,  0, 70, 80])"
      ]
     },
     "execution_count": 46,
     "metadata": {},
     "output_type": "execute_result"
    }
   ],
   "source": [
    "b = a[3:6]\n",
    "b[:] = 0\n",
    "a"
   ]
  },
  {
   "cell_type": "markdown",
   "id": "4b136292",
   "metadata": {},
   "source": [
    "# copy"
   ]
  },
  {
   "cell_type": "code",
   "execution_count": 49,
   "id": "7bae23c3",
   "metadata": {},
   "outputs": [
    {
     "data": {
      "text/plain": [
       "(array([10, 20, 30, 40, 50, 60, 70, 80]), array([0, 0, 0]))"
      ]
     },
     "execution_count": 49,
     "metadata": {},
     "output_type": "execute_result"
    }
   ],
   "source": [
    "a = np.array([10,20,30,40,50,60,70,80])\n",
    "b = a[3:6].copy()\n",
    "b[:] = 0\n",
    "a,b"
   ]
  },
  {
   "cell_type": "markdown",
   "id": "219842d4",
   "metadata": {},
   "source": [
    "# conditional statements"
   ]
  },
  {
   "cell_type": "code",
   "execution_count": 50,
   "id": "cdd5b719",
   "metadata": {},
   "outputs": [
    {
     "data": {
      "text/plain": [
       "array([ 1,  2,  3,  4,  5,  6,  7,  8,  9, 10, 11, 12, 13, 14, 15])"
      ]
     },
     "execution_count": 50,
     "metadata": {},
     "output_type": "execute_result"
    }
   ],
   "source": [
    "a = np.arange(1,16)\n",
    "a"
   ]
  },
  {
   "cell_type": "code",
   "execution_count": 51,
   "id": "8891e109",
   "metadata": {},
   "outputs": [
    {
     "data": {
      "text/plain": [
       "array([False, False, False, False, False, False, False, False, False,\n",
       "       False,  True,  True,  True,  True,  True])"
      ]
     },
     "execution_count": 51,
     "metadata": {},
     "output_type": "execute_result"
    }
   ],
   "source": [
    "a>10"
   ]
  },
  {
   "cell_type": "code",
   "execution_count": 52,
   "id": "22f01b26",
   "metadata": {},
   "outputs": [
    {
     "data": {
      "text/plain": [
       "array([ True,  True,  True,  True,  True,  True,  True,  True,  True,\n",
       "       False, False, False, False, False, False])"
      ]
     },
     "execution_count": 52,
     "metadata": {},
     "output_type": "execute_result"
    }
   ],
   "source": [
    "a<10"
   ]
  },
  {
   "cell_type": "code",
   "execution_count": 53,
   "id": "c78faf49",
   "metadata": {},
   "outputs": [
    {
     "data": {
      "text/plain": [
       "array([11, 12, 13, 14, 15])"
      ]
     },
     "execution_count": 53,
     "metadata": {},
     "output_type": "execute_result"
    }
   ],
   "source": [
    "b = a>10\n",
    "a[b]"
   ]
  },
  {
   "cell_type": "code",
   "execution_count": 54,
   "id": "295288b2",
   "metadata": {},
   "outputs": [
    {
     "data": {
      "text/plain": [
       "array([ 2,  4,  6,  8, 10, 12, 14])"
      ]
     },
     "execution_count": 54,
     "metadata": {},
     "output_type": "execute_result"
    }
   ],
   "source": [
    "a[a%2==0]"
   ]
  },
  {
   "cell_type": "markdown",
   "id": "8a16ea7f",
   "metadata": {},
   "source": [
    "# operation on array "
   ]
  },
  {
   "cell_type": "code",
   "execution_count": 55,
   "id": "b9bf054c",
   "metadata": {},
   "outputs": [
    {
     "data": {
      "text/plain": [
       "array([2, 4, 6, 8])"
      ]
     },
     "execution_count": 55,
     "metadata": {},
     "output_type": "execute_result"
    }
   ],
   "source": [
    "a = np.arange(1,5)\n",
    "a*2"
   ]
  },
  {
   "cell_type": "code",
   "execution_count": 56,
   "id": "e42376c5",
   "metadata": {},
   "outputs": [
    {
     "data": {
      "text/plain": [
       "array([3, 4, 5, 6])"
      ]
     },
     "execution_count": 56,
     "metadata": {},
     "output_type": "execute_result"
    }
   ],
   "source": [
    "a+2"
   ]
  },
  {
   "cell_type": "code",
   "execution_count": 57,
   "id": "21217ad6",
   "metadata": {},
   "outputs": [
    {
     "data": {
      "text/plain": [
       "array([ 1,  4,  9, 16])"
      ]
     },
     "execution_count": 57,
     "metadata": {},
     "output_type": "execute_result"
    }
   ],
   "source": [
    "a**2"
   ]
  },
  {
   "cell_type": "code",
   "execution_count": 60,
   "id": "2c05bfd4",
   "metadata": {},
   "outputs": [
    {
     "data": {
      "text/plain": [
       "array([[1, 2],\n",
       "       [3, 4]])"
      ]
     },
     "execution_count": 60,
     "metadata": {},
     "output_type": "execute_result"
    }
   ],
   "source": [
    "b = np.array([1,2,3,4]).reshape(2,2)\n",
    "b"
   ]
  },
  {
   "cell_type": "code",
   "execution_count": 61,
   "id": "33702096",
   "metadata": {},
   "outputs": [
    {
     "data": {
      "text/plain": [
       "array([[2, 4],\n",
       "       [6, 8]])"
      ]
     },
     "execution_count": 61,
     "metadata": {},
     "output_type": "execute_result"
    }
   ],
   "source": [
    "a+b"
   ]
  },
  {
   "cell_type": "code",
   "execution_count": 62,
   "id": "621ddeaa",
   "metadata": {},
   "outputs": [
    {
     "data": {
      "text/plain": [
       "array([[0, 0],\n",
       "       [0, 0]])"
      ]
     },
     "execution_count": 62,
     "metadata": {},
     "output_type": "execute_result"
    }
   ],
   "source": [
    "b-a"
   ]
  },
  {
   "cell_type": "code",
   "execution_count": 63,
   "id": "a993abbc",
   "metadata": {},
   "outputs": [
    {
     "data": {
      "text/plain": [
       "array([[1., 1.],\n",
       "       [1., 1.]])"
      ]
     },
     "execution_count": 63,
     "metadata": {},
     "output_type": "execute_result"
    }
   ],
   "source": [
    "b/a"
   ]
  },
  {
   "cell_type": "code",
   "execution_count": 64,
   "id": "4ee93906",
   "metadata": {},
   "outputs": [
    {
     "data": {
      "text/plain": [
       "array([[ 1,  4],\n",
       "       [ 9, 16]])"
      ]
     },
     "execution_count": 64,
     "metadata": {},
     "output_type": "execute_result"
    }
   ],
   "source": [
    "a*b"
   ]
  },
  {
   "cell_type": "code",
   "execution_count": 65,
   "id": "9dbc598f",
   "metadata": {},
   "outputs": [
    {
     "data": {
      "text/plain": [
       "array([[ 7, 10],\n",
       "       [15, 22]])"
      ]
     },
     "execution_count": 65,
     "metadata": {},
     "output_type": "execute_result"
    }
   ],
   "source": [
    "a.dot(b) #matrix multipltion "
   ]
  },
  {
   "cell_type": "markdown",
   "id": "0d334997",
   "metadata": {},
   "source": [
    "# some more important numpy function"
   ]
  },
  {
   "cell_type": "code",
   "execution_count": 66,
   "id": "00fc4770",
   "metadata": {},
   "outputs": [
    {
     "data": {
      "text/plain": [
       "1"
      ]
     },
     "execution_count": 66,
     "metadata": {},
     "output_type": "execute_result"
    }
   ],
   "source": [
    "a = np.array([1,2,3,4,5,6])\n",
    "np.min(a) #min value"
   ]
  },
  {
   "cell_type": "code",
   "execution_count": 67,
   "id": "0bb0f7b2",
   "metadata": {},
   "outputs": [
    {
     "data": {
      "text/plain": [
       "6"
      ]
     },
     "execution_count": 67,
     "metadata": {},
     "output_type": "execute_result"
    }
   ],
   "source": [
    "np.max(a) #max value "
   ]
  },
  {
   "cell_type": "code",
   "execution_count": 68,
   "id": "e2af1f8c",
   "metadata": {},
   "outputs": [
    {
     "data": {
      "text/plain": [
       "0"
      ]
     },
     "execution_count": 68,
     "metadata": {},
     "output_type": "execute_result"
    }
   ],
   "source": [
    "np.argmin(a) #min value index"
   ]
  },
  {
   "cell_type": "code",
   "execution_count": 69,
   "id": "cf3a0e03",
   "metadata": {},
   "outputs": [
    {
     "data": {
      "text/plain": [
       "5"
      ]
     },
     "execution_count": 69,
     "metadata": {},
     "output_type": "execute_result"
    }
   ],
   "source": [
    "np.argmax(a) #max value index"
   ]
  },
  {
   "cell_type": "code",
   "execution_count": 70,
   "id": "3de73492",
   "metadata": {},
   "outputs": [
    {
     "data": {
      "text/plain": [
       "array([1.        , 1.41421356, 1.73205081, 2.        , 2.23606798,\n",
       "       2.44948974])"
      ]
     },
     "execution_count": 70,
     "metadata": {},
     "output_type": "execute_result"
    }
   ],
   "source": [
    "np.sqrt(a) #square "
   ]
  },
  {
   "cell_type": "code",
   "execution_count": 71,
   "id": "377b1757",
   "metadata": {},
   "outputs": [
    {
     "data": {
      "text/plain": [
       "array([ 0.84147098,  0.90929743,  0.14112001, -0.7568025 , -0.95892427,\n",
       "       -0.2794155 ])"
      ]
     },
     "execution_count": 71,
     "metadata": {},
     "output_type": "execute_result"
    }
   ],
   "source": [
    "np.sin(a)"
   ]
  },
  {
   "cell_type": "markdown",
   "id": "5369967c",
   "metadata": {},
   "source": [
    "# linspace ==> this function returns value between a given range and with a same gap between consicutive elements"
   ]
  },
  {
   "cell_type": "code",
   "execution_count": 72,
   "id": "9fa4c2bd",
   "metadata": {},
   "outputs": [
    {
     "data": {
      "text/plain": [
       "array([1.  , 1.25, 1.5 , 1.75, 2.  ])"
      ]
     },
     "execution_count": 72,
     "metadata": {},
     "output_type": "execute_result"
    }
   ],
   "source": [
    "a = np.linspace(1,2,5)\n",
    "a"
   ]
  },
  {
   "cell_type": "markdown",
   "id": "19da561a",
   "metadata": {},
   "source": [
    "# np.unique(arr,return_index=true,return_count= true)"
   ]
  },
  {
   "cell_type": "markdown",
   "id": "b60881e1",
   "metadata": {},
   "source": [
    "## return 3 array 1. the array with unique values 2. the array with respective index value 3. the array with counting of frequency"
   ]
  },
  {
   "cell_type": "code",
   "execution_count": 73,
   "id": "548de719",
   "metadata": {},
   "outputs": [
    {
     "data": {
      "text/plain": [
       "(array([10, 20, 30, 40, 50]),\n",
       " array([0, 1, 2, 3, 8], dtype=int64),\n",
       " array([2, 2, 2, 2, 1], dtype=int64))"
      ]
     },
     "execution_count": 73,
     "metadata": {},
     "output_type": "execute_result"
    }
   ],
   "source": [
    "a = np.array([10,20,30,40,10,20,30,40,50])\n",
    "np.unique(a,return_index = True, return_counts = True)"
   ]
  },
  {
   "cell_type": "markdown",
   "id": "63d965e1",
   "metadata": {},
   "source": [
    "# horizontal and vertical stacking "
   ]
  },
  {
   "cell_type": "code",
   "execution_count": 74,
   "id": "5129c658",
   "metadata": {},
   "outputs": [
    {
     "data": {
      "text/plain": [
       "array([1, 2, 3, 4])"
      ]
     },
     "execution_count": 74,
     "metadata": {},
     "output_type": "execute_result"
    }
   ],
   "source": [
    "a = np.array([1,2,3,4])\n",
    "b = np.array([5,6,7,8])\n",
    "a"
   ]
  },
  {
   "cell_type": "code",
   "execution_count": 75,
   "id": "aec5938f",
   "metadata": {},
   "outputs": [
    {
     "data": {
      "text/plain": [
       "array([5, 6, 7, 8])"
      ]
     },
     "execution_count": 75,
     "metadata": {},
     "output_type": "execute_result"
    }
   ],
   "source": [
    "b"
   ]
  },
  {
   "cell_type": "code",
   "execution_count": 76,
   "id": "39eb7a9e",
   "metadata": {},
   "outputs": [
    {
     "data": {
      "text/plain": [
       "array([1, 2, 3, 4, 5, 6, 7, 8])"
      ]
     },
     "execution_count": 76,
     "metadata": {},
     "output_type": "execute_result"
    }
   ],
   "source": [
    "np.hstack((a,b))"
   ]
  },
  {
   "cell_type": "code",
   "execution_count": 80,
   "id": "d0cc52e3",
   "metadata": {},
   "outputs": [
    {
     "data": {
      "text/plain": [
       "array([[1, 2, 3, 4],\n",
       "       [5, 6, 7, 8]])"
      ]
     },
     "execution_count": 80,
     "metadata": {},
     "output_type": "execute_result"
    }
   ],
   "source": [
    "np.vstack((a,b))"
   ]
  },
  {
   "cell_type": "code",
   "execution_count": null,
   "id": "8747c219",
   "metadata": {},
   "outputs": [],
   "source": []
  }
 ],
 "metadata": {
  "kernelspec": {
   "display_name": "Python 3 (ipykernel)",
   "language": "python",
   "name": "python3"
  },
  "language_info": {
   "codemirror_mode": {
    "name": "ipython",
    "version": 3
   },
   "file_extension": ".py",
   "mimetype": "text/x-python",
   "name": "python",
   "nbconvert_exporter": "python",
   "pygments_lexer": "ipython3",
   "version": "3.10.9"
  }
 },
 "nbformat": 4,
 "nbformat_minor": 5
}
